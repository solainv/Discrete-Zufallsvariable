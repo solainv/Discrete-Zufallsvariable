{
 "cells": [
  {
   "cell_type": "markdown",
   "id": "c06722b9-6fc9-4e4f-acc2-de34d6ef9d8c",
   "metadata": {},
   "source": [
    "# Diskrete Zufallsvariable "
   ]
  },
  {
   "cell_type": "markdown",
   "id": "082f3dd2-4f33-4a69-a409-e4801d24b02c",
   "metadata": {},
   "source": [
    "Stell dir vor, du wirfst eine Münze. Das Ergebnis könnte entweder Kopf oder Zahl sein, oder? Eine **Zufallsvariable** ist einfach eine Art zu sagen, dass wir einem dieser Ergebnisse eine Zahl zuordnen können. \n",
    "\n",
    "Nehmen wir an, wir geben \"1\" für Kopf und \"0\" für Zahl. Jetzt haben wir eine **Zufallsvariable**. Wenn wir die Münze werfen, können wir sagen, dass unsere Zufallsvariable entweder den Wert \"1\" oder den Wert \"0\" annimmt, je nachdem, ob wir Kopf oder Zahl erhalten.\n",
    "\n",
    "Das ist im Grunde genommen, was eine **Zufallsvariable** ist - sie hilft uns, die Ergebnisse zufälliger Ereignisse in Zahlen auszudrücken, damit wir sie besser verstehen und analysieren können."
   ]
  },
  {
   "cell_type": "markdown",
   "id": "b6c3a3a5-f222-425d-92a5-ffb15c844f6b",
   "metadata": {},
   "source": [
    "##  Wahrscheinlichkeitsfunktion (probability mass function (pmf))"
   ]
  },
  {
   "cell_type": "markdown",
   "id": "d478a254-9f2d-47ff-9679-726ce7cc5199",
   "metadata": {},
   "source": [
    "Sobald wir eine Zufallsvariable haben, können wir die Wahrscheinlichkeiten verschiedener Ereignisse damit berechnen. Eine **Wahrscheinlichkeitsfunktion** ist eine Funktion, die die Wahrscheinlichkeiten für die verschiedenen möglichen Ergebnisse einer diskreten Zufallsvariablen berechnet. \n",
    "\n",
    "Für eine diskrete Zufallsvariable $X$, die Werte $x_1, x_2,..., x_n$ annimmt, ist die Wahscheinlichkeitsfunktion $P(X)$ definiert als $$P(X=x_i) =p_i$$ dabei ist $P(X=x_i)$ die Wahscheinlichkeit, dass die Zufallsvariable $X$ den Wert $x_i$ annimmt und $p_i$ ist die Wahrscheinlichkeit dieses bestimmten Ereignisses.\n",
    "\n",
    "Die Wahrscheinlichkeitsfunktion muss zwei Bedingungen erfüllen:\n",
    "1. Jede Wahrscheinlichkeit p_i muss zwischen 0 und 1 liegen (inklusiv)\n",
    "2. Die Summe aller Wahrscheinlichkeiten für alle möglichen Ergebnisse muss 1 ergeben $\\sum_i pi =1$"
   ]
  },
  {
   "cell_type": "markdown",
   "id": "1152cbb0-bcd5-467a-8928-6cf93a03bef8",
   "metadata": {},
   "source": [
    "#### Ansatz\n",
    "1. Identifiziere die Ereignisse: Zuerst musst du klar definieren, welche Ereignisse du betrachten möchtest. Zum Beispiel könnten die Ereignisse bei einer Münzwurfzufallsvariable \"Kopf\" und \"Zahl\" sein.\n",
    "2. Finde die Wahrscheilichkeitsfunktion  jedes Ereignisses. Im Falle einer fairen Münze ist die Wahrscheinlichkeit für \"Kopf\" und \"Zahl\" jeweils \n",
    "$\\frac{1}{2}$ . $$P(X=0)=\\frac{1}{2} ;~~~~P(X=1)=\\frac{1}{2}$$"
   ]
  },
  {
   "cell_type": "markdown",
   "id": "1fb0a0b3-4a69-4b5e-9f71-07acee6cddb9",
   "metadata": {},
   "source": [
    "## Erwartungswert "
   ]
  },
  {
   "cell_type": "markdown",
   "id": "4f6b3ca9-ee1b-4ef5-b6d6-877340807a77",
   "metadata": {},
   "source": [
    "#### Einführung"
   ]
  },
  {
   "cell_type": "markdown",
   "id": "c652f1a6-fbd6-4fce-9e63-d7484471295d",
   "metadata": {},
   "source": [
    "Stellen Sie sich vor, Sie sind ein Investor und überlegen, in eine bestimmte Aktie zu investieren. Angenommen, du kaufst eine Aktie eines Unternehmens für **100$**. Du erwartest, dass der Preis der Aktie in einem Jahr entweder um **20%** steigt oder um **10%** fällt, wobei beide Szenarien mit einer Wahrscheinlichkeit von jeweils **50%** eintreten können.. Nun fragen Sie sich vielleicht, wie viel Sie im Durchschnitt erwarten können, dass Ihre Investition nach einem Jahr wert sein wird. Genau das ist der **Erwartungswert**.\n",
    "\n",
    "Der **Erwartungswert** hilft Ihnen, eine Vorstellung davon zu bekommen, was Sie im Durchschnitt erwarten können. In diesem Fall möchten Sie wissen, ob es wahrscheinlicher ist, dass Ihre Investition wächst oder schrumpft, und welchen Wert sie durchschnittlich haben könnte.\n",
    "\n",
    "Indem Sie den **Erwartungswert** berechnen, können Sie eine fundiertere Entscheidung darüber treffen, ob die Investition in diese Aktie für Sie sinnvoll ist."
   ]
  },
  {
   "cell_type": "markdown",
   "id": "04a04c6b-140c-4ccc-ad32-4998a8907f13",
   "metadata": {},
   "source": [
    "#### Berechnung"
   ]
  },
  {
   "cell_type": "markdown",
   "id": "de29099a-617c-4c3f-8650-52329f8574b4",
   "metadata": {},
   "source": [
    "Der Erwartungswert einer diskreten Zufallsvariable wird berechnet, indem man jedes mögliche Ergebnis der Zufallsvariable mit seiner jeweiligen Wahrscheinlichkeit multipliziert und dann alle diese Produkte summiert. Mathematisch ausgedrückt:\n",
    "Wenn $X$ eine diskrete Zufallsvariable ist, die Werte $x_1, x_2,..., x_n$ mit den jeweiligen Wahrscheinlichkeiten $ P(X=x_1),~P(X=x_2),...,~P(X=x_n)$ annimmt, dann ist der Erwartungswert $E(X)$: $$E(X) = x_1.P(X=x_1)+x_2.P(X=x_2)+...x_n.P(X=x_n)$$"
   ]
  },
  {
   "cell_type": "markdown",
   "id": "ac44bf6b-d934-4c06-aec1-5b0aeac7884b",
   "metadata": {},
   "source": [
    "#### Beispiel:"
   ]
  },
  {
   "cell_type": "markdown",
   "id": "55b57028-ad00-477a-8cf9-6cbec7d25b42",
   "metadata": {},
   "source": [
    "Nehmen wir das Beispiel der Invesition:\n",
    "- Wenn die Aktie um **20%** steigt, beträgt der Wert der Aktie in einem Jahr $100 + 0.2\\times 100 = 120\\$$\n",
    "\n",
    "- Wenn die Aktie um **10%** fällt, beträgt der Wert der Aktie in einem Jahr $100 - 0.1\\times 100 = 90\\$$.\n",
    "\n",
    "Der Erwartungswert $E(X)$ deiner Investition wäre: $$E(X)=120\\times0,5 + 90\\times0,5 = 60+45=105\\$$$\n",
    "Das bedeutet, dass du im Durchschnitt erwarten kannst, dass der Wert deiner Aktieninvestition nach einem Jahr $105\\$$ beträg"
   ]
  },
  {
   "cell_type": "markdown",
   "id": "67365fea-d79c-4d39-b76f-04d0e42abb93",
   "metadata": {},
   "source": [
    "## Varianz:"
   ]
  },
  {
   "cell_type": "markdown",
   "id": "8a0f3c2e-478f-47b9-b4c6-0bb6230fde42",
   "metadata": {},
   "source": [
    "Stellen Sie sich vor, Sie sind Investor und überlegen, in eine Aktie zu investieren. Sie möchten nicht nur wissen, was im Durchschnitt zu erwarten ist (Erwartungswert), sondern auch, wie stark die Renditen um diesen Durchschnitt herum variieren können. Hier kommt die Varianz ins Spiel.\n",
    "\n",
    "Im zusammenhang mit Investition eine höhere Varianz bedeutet, dass die Renditen von Jahr zu Jahr stärker variieren, während eine niedrigere Varianz auf stabilere Renditen hinweist."
   ]
  },
  {
   "cell_type": "markdown",
   "id": "2f341f7d-0803-4d62-985d-53a3b0e79fa5",
   "metadata": {},
   "source": [
    "Wenn $X$ eine diskrete Zufallsvariable ist, die Werte $x_1, x_2,..., x_n$ mit den jeweiligen Wahrscheinlichkeiten $ P(X=x_1),~P(X=x_2),...,~P(X=x_n)$ annimmt, dann ist die Varianz $Var(X)$: $$Var(X) = (x_1-E(X))^2.P(X=x_1)+(x_2-E(X))^2.P(X=x_2)+...(x_n-E(X))^2.P(X=x_n)$$\n"
   ]
  },
  {
   "cell_type": "markdown",
   "id": "8573b21d-0941-4690-b326-46fb4e4a94b1",
   "metadata": {},
   "source": [
    "Für das Beisiel der Inverstition: $$Var(X) = (x_1−E(X))^2.P(X=x_1)+(x_2−E(X))^2.P(X=x_2)\\newline\n",
    "                                            =(120−105)^2⋅0.5+(90−105)^2⋅0.5\\newline\n",
    "                                            = 225\n",
    "                                            $$\n",
    "                                            \n",
    "                                            \n",
    "Die Varianz beträgt also $225 =15^2\\$$. Das bedeutet, dass der Wert der Aktie im Durchschnitt um $±15\\$$ vom erwarteten Wert schwanken kann"
   ]
  },
  {
   "cell_type": "markdown",
   "id": "4d81c702-74be-417c-99d4-1194917cef2c",
   "metadata": {},
   "source": [
    "## Standardabweichung"
   ]
  },
  {
   "cell_type": "markdown",
   "id": "f7802ee7-ea27-4426-a662-7ec2360837a3",
   "metadata": {},
   "source": [
    "Die Standardabwechung $\\sigma$ ist: $$\\sigma = \\sqrt{Var(X)}$$"
   ]
  },
  {
   "cell_type": "markdown",
   "id": "9e82940e-2cc8-4bb0-9fa8-5318e6a807e0",
   "metadata": {},
   "source": [
    "## Wahrscheinlichkeitsverteilung"
   ]
  },
  {
   "cell_type": "markdown",
   "id": "870a5272-94a4-4c20-b801-d5a9b6cf60a4",
   "metadata": {},
   "source": [
    "Angenommen, Sie arbeiten in einem Callcenter und nehmen Anrufe von Kunden entgegen. Die Anzahl der Anrufe, die Sie pro Stunde erhalten, kann von Stunde zu Stunde variieren. **Wie können Sie besser planen, wie viele Mitarbeiter Sie in verschiedenen Schichten benötigen, um die Anrufe effektiv zu bewältigen?**. Hier kommt das Konzept der Wahrscheinlichkeitsverteilungen ins Spiel.\n",
    "\n",
    "Eine Wahrscheinlichkeitsverteilung beschreibt, wie die Wahrscheinlichkeiten auf verschiedene mögliche Werte einer Zufallsvariablen verteilt sind.\n",
    "In diesem Fall ist die Zufallsvariable die Anzahl der Anrufe pro Stunde. Sie könnten feststellen, dass die Anzahl der Anrufe pro Stunde diskret ist, da sie nur ganze Zahlen annehmen kann. Sie möchten nun eine Wahrscheinlichkeitsverteilung erstellen, die beschreibt, wie wahrscheinlich es ist, eine bestimmte Anzahl von Anrufen in einer Stunde zu erhalten."
   ]
  },
  {
   "cell_type": "markdown",
   "id": "de6794e9-2f0f-4c02-9f7d-bff57dea1c1b",
   "metadata": {},
   "source": [
    "### Verteilungsfunktion (Cumulative Distribution Function (CDF))"
   ]
  },
  {
   "cell_type": "markdown",
   "id": "85defd9b-0e03-460b-8b89-7863204741bc",
   "metadata": {},
   "source": [
    "Um die Anzahl der Anrufe pro Stunde zu untersuchen, benötigen Sie eine Methode, um die Wahrscheinlichkeit zu bestimmen, dass eine bestimmte Anzahl von Anrufen während einer Stunde eintrifft. Hier kommt die Verteilungsfunktion ins Spiel."
   ]
  },
  {
   "cell_type": "markdown",
   "id": "ea648848-9c86-4cef-8c1c-3ffc9958308d",
   "metadata": {},
   "source": [
    "Die Verteilungsfunktion ist eine Funktion, die die Wahrscheinlichkeit beschreibt, dass eine Zufallsvariable einen Wert kleiner oder gleich einem bestimmten Wert annimmt.\n",
    "Für eine Zufallsvariable $X$ ist die Verteilungsfunktion definiert als: $$F(x)=P(X≤x)$$\n",
    "wobei $F(x)$ die Wahrscheinlichkeit ist, dass die Zufallsvariable $X$ einen Wert kleiner oder gleich $x$ annimmt.\n",
    "\n",
    "Die Verteilungsfunktion hat folgende Eigenschaften:\n",
    "- Sie ist monoton nicht fallend: Für alle $x_1<x_2$ gilt $F(x_1)≤F(x_2)$."
   ]
  },
  {
   "cell_type": "markdown",
   "id": "263a89c7-8e57-46e9-baf1-38c91df132c3",
   "metadata": {},
   "source": [
    "Im Beispiel des Call Center Wenn beispielsweise $F(10) = 0.8 $ , bedeutet dies, dass in 80 % der Stunden 10 Anrufe oder weniger eingehen "
   ]
  },
  {
   "cell_type": "markdown",
   "id": "9c4114f3-cb0c-4cd0-b7aa-c087e397c198",
   "metadata": {},
   "source": [
    "## Übliche Verteilungen"
   ]
  },
  {
   "cell_type": "markdown",
   "id": "1b193ecd-3a9c-4321-a76f-9d935e851683",
   "metadata": {},
   "source": [
    "Es gibt eine Liste  der wichtigsten diskreten Verteilungen:\n",
    "\n",
    "- Bernoulli-Verteilung\n",
    "- Binomiale Verteilung\n",
    "- Poisson-Verteilung\n",
    "- Geometrische Verteilung\r\n"
   ]
  },
  {
   "cell_type": "markdown",
   "id": "d8bf9a05-73fa-4d9c-85b5-b182a6d36d4f",
   "metadata": {},
   "source": [
    "#### Hinweis:\n",
    "Für bestimmte bekannte Verteilungen wie können die Wahrscheinlichkeit anhand von Erwartungswert kriegen wenn es gegeben wurde"
   ]
  }
 ],
 "metadata": {
  "kernelspec": {
   "display_name": "Python 3 (ipykernel)",
   "language": "python",
   "name": "python3"
  },
  "language_info": {
   "codemirror_mode": {
    "name": "ipython",
    "version": 3
   },
   "file_extension": ".py",
   "mimetype": "text/x-python",
   "name": "python",
   "nbconvert_exporter": "python",
   "pygments_lexer": "ipython3",
   "version": "3.11.7"
  }
 },
 "nbformat": 4,
 "nbformat_minor": 5
}
